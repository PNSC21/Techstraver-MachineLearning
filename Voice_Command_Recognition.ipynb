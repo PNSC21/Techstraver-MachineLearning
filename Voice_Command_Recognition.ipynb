{
 "cells": [
  {
   "cell_type": "code",
   "execution_count": 19,
   "metadata": {},
   "outputs": [],
   "source": [
    "import speech_recognition as sr\n",
    "from langdetect import detect\n",
    "from googletrans import Translator"
   ]
  },
  {
   "cell_type": "code",
   "execution_count": 20,
   "metadata": {},
   "outputs": [],
   "source": [
    "def recognize_audio_file(file_path):\n",
    "    recognizer = sr.Recognizer()\n",
    "    translator = Translator()\n",
    "\n",
    "    with sr.AudioFile(file_path) as source:\n",
    "        audio_data = recognizer.record(source)\n",
    "\n",
    "        try:\n",
    "            print(\"Recognizing...\")\n",
    "\n",
    "            # Recognize the audio using Google's speech recognition\n",
    "            text = recognizer.recognize_google(audio_data)\n",
    "            print(f\"Text from audio file: {text}\")\n",
    "\n",
    "            # Detect the language of the transcribed text\n",
    "            detected_language = detect(text)\n",
    "            print(f\"Detected language: {detected_language}\")\n",
    "\n",
    "            # Translate the text to English\n",
    "            translation = translator.translate(text, src=detected_language, dest='en')\n",
    "            print(f\"Translation: {translation.text}\")\n",
    "\n",
    "        except sr.UnknownValueError:\n",
    "            print(\"Sorry, I could not understand the audio.\")\n",
    "\n",
    "        except sr.RequestError as e:\n",
    "            print(f\"Request error from Google Speech Recognition service; {e}\")"
   ]
  },
  {
   "cell_type": "code",
   "execution_count": 21,
   "metadata": {},
   "outputs": [
    {
     "name": "stdout",
     "output_type": "stream",
     "text": [
      "Recognizing...\n",
      "Text from audio file: for the 20th time that evening the two men shook hands\n",
      "Detected language: en\n",
      "Translation: for the 20th time that evening the two men shook hands\n"
     ]
    }
   ],
   "source": [
    "audio_file_path = 'sample1.wav'\n",
    "recognize_audio_file(audio_file_path)"
   ]
  }
 ],
 "metadata": {
  "kernelspec": {
   "display_name": "keras_env",
   "language": "python",
   "name": "python3"
  },
  "language_info": {
   "codemirror_mode": {
    "name": "ipython",
    "version": 3
   },
   "file_extension": ".py",
   "mimetype": "text/x-python",
   "name": "python",
   "nbconvert_exporter": "python",
   "pygments_lexer": "ipython3",
   "version": "3.10.9"
  }
 },
 "nbformat": 4,
 "nbformat_minor": 2
}
